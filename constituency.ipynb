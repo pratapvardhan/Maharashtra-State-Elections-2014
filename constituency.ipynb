{
 "metadata": {
  "name": "",
  "signature": "sha256:461c3b67d09807476e440d702ec9a95be928aab02bf355ed4b089bbebaf62ab6"
 },
 "nbformat": 3,
 "nbformat_minor": 0,
 "worksheets": [
  {
   "cells": [
    {
     "cell_type": "code",
     "collapsed": false,
     "input": [
      "import os\n",
      "import hashlib\n",
      "import requests\n",
      "from bs4 import BeautifulSoup\n",
      "import pandas as pd"
     ],
     "language": "python",
     "metadata": {},
     "outputs": [],
     "prompt_number": 1
    },
    {
     "cell_type": "code",
     "collapsed": false,
     "input": [
      "if not os.path.exists('.cache-ec'):\n",
      "    os.makedirs('.cache-ec')\n",
      "\n",
      "ua = 'Mozilla/5.0 (Windows NT 6.1; WOW64) AppleWebKit/537.36 (KHTML, like Gecko) Chrome/34.0.1847.116 Safari/537.36'\n",
      "session = requests.Session()"
     ],
     "language": "python",
     "metadata": {},
     "outputs": [],
     "prompt_number": 2
    },
    {
     "cell_type": "code",
     "collapsed": false,
     "input": [
      "def get(url):\n",
      "    '''Return cached lxml tree for url'''\n",
      "    url_e=url.encode('utf-8')\n",
      "    path = os.path.join('.cache-ec', hashlib.md5(url_e).hexdigest() + '.html')\n",
      "    if not os.path.exists(path):\n",
      "        print (url)\n",
      "        response = session.get(url, headers={'User-Agent': ua})\n",
      "        with open(path, 'w') as fd:\n",
      "            fd.write(response.text)\n",
      "    return BeautifulSoup(open(path), 'html.parser')"
     ],
     "language": "python",
     "metadata": {},
     "outputs": [],
     "prompt_number": 3
    },
    {
     "cell_type": "code",
     "collapsed": false,
     "input": [
      "def eci(url, code):\n",
      "    soup = get(url)\n",
      "    data = soup.find_all('table')[5].find_all('table')[1].find_all('table')[0]\n",
      "    state = data.find('td').text[0:-14]\n",
      "    result = []\n",
      "    for tr in data.find_all('tr')[4:]:\n",
      "        cells  = [td.text.strip() for td in tr.find_all('td')]\n",
      "        cells += [state, code]\n",
      "        result.append(cells)\n",
      "    return result"
     ],
     "language": "python",
     "metadata": {},
     "outputs": [],
     "prompt_number": 4
    },
    {
     "cell_type": "code",
     "collapsed": false,
     "input": [
      "result=[]\n",
      "codes = ['S07', 'S13']\n",
      "ranges = {}\n",
      "ranges['S07'] = 8\n",
      "ranges['S13'] = 27\n",
      "for code in codes:\n",
      "    url = \"http://eciresults.nic.in/statewise\"+code+\".htm\"\n",
      "    result += eci(url, code)\n",
      "    for const in range(1, ranges[code]+1):\n",
      "        url = \"http://eciresults.nic.in/statewise\"+code+str(const)+\".htm\"\n",
      "        result += eci(url, code)\n",
      "result = result[:-1]\n",
      "\n",
      "data = pd.DataFrame(result)\n",
      "data.columns = ['Constituency','Constituency-code','Leading Candidate','Leading Party','Trailing Candidate','Trailing Party','Margin','Status','State','State-code']\n",
      "data.to_csv('eci-2014-states-constituency-wise.csv', index=False, encoding='utf-8')"
     ],
     "language": "python",
     "metadata": {},
     "outputs": [],
     "prompt_number": 5
    }
   ],
   "metadata": {}
  }
 ]
}
